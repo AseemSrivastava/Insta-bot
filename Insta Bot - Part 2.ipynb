{
 "cells": [
  {
   "cell_type": "markdown",
   "id": "1006088b",
   "metadata": {},
   "source": [
    "# Insta Bot - Part 2"
   ]
  },
  {
   "cell_type": "code",
   "execution_count": 197,
   "id": "f8f5b4cc",
   "metadata": {},
   "outputs": [],
   "source": [
    "from selenium import webdriver\n",
    "from selenium.webdriver.support import expected_conditions as EC\n",
    "from selenium.webdriver.support.ui import WebDriverWait\n",
    "from selenium.webdriver.common.by import By\n",
    "from selenium.common.exceptions import TimeoutException\n",
    "from bs4 import BeautifulSoup\n",
    "import time"
   ]
  },
  {
   "cell_type": "code",
   "execution_count": 267,
   "id": "5ee38344",
   "metadata": {},
   "outputs": [],
   "source": [
    "#opening the browser\n",
    "driver = webdriver.Chrome()\n",
    "driver.maximize_window()"
   ]
  },
  {
   "cell_type": "code",
   "execution_count": 268,
   "id": "506df9ed",
   "metadata": {},
   "outputs": [],
   "source": [
    "#opening instagram\n",
    "driver.get('https://www.instagram.com/')"
   ]
  },
  {
   "cell_type": "code",
   "execution_count": 200,
   "id": "3fe308bf",
   "metadata": {},
   "outputs": [],
   "source": [
    "#update your username and password here\n",
    "username = 'your user name'\n",
    "password = 'your password'"
   ]
  },
  {
   "cell_type": "code",
   "execution_count": 201,
   "id": "23ffb718",
   "metadata": {},
   "outputs": [],
   "source": [
    "#initializing  wait object\n",
    "wait = WebDriverWait(driver, 10)"
   ]
  },
  {
   "cell_type": "code",
   "execution_count": 18,
   "id": "204861b4",
   "metadata": {},
   "outputs": [],
   "source": [
    "def login(username, password):\n",
    "    try:\n",
    "        #locating username textbox and sending username\n",
    "        user_name_element = driver.find_element(\"xpath\", \"/html/body/div[2]/div/div/div[2]/div/div/div[1]/div[1]/div[2]/section/main/article/div[2]/div[1]/div[2]/form/div/div[1]/div/label/input\")\n",
    "        user_name_element.send_keys(username)\n",
    "        #locating password box and sending password\n",
    "        user_password = driver.find_element('xpath', '/html/body/div[2]/div/div/div[2]/div/div/div[1]/div[1]/div[2]/section/main/article/div[2]/div[1]/div[2]/form/div/div[2]/div/label/input')\n",
    "        user_password.send_keys(password)\n",
    "        #locating login button \n",
    "        login_button = driver.find_element('xpath', '/html/body/div[2]/div/div/div[2]/div/div/div[1]/div[1]/div[2]/section/main/article/div[2]/div[1]/div[2]/form/div/div[3]/button/div')\n",
    "        login_button.click()\n",
    "    \n",
    "    except NoSuchElementException:\n",
    "        button = driver.find_element(\"xpath\", \"/html/body/div[2]/div/div/div[2]/div/div/div[1]/div[1]/div[1]/div/div[3]/div/div/div/div[1]/a\")\n",
    "        button.click()\n",
    "    except TimeoutException :\n",
    "        print (\"Something went wrong! Try Again\")"
   ]
  },
  {
   "cell_type": "code",
   "execution_count": 269,
   "id": "a0cecbcc",
   "metadata": {},
   "outputs": [],
   "source": [
    "#Login to your Instagram Handle\n",
    "login(username, password)"
   ]
  },
  {
   "cell_type": "code",
   "execution_count": 126,
   "id": "0a2d8079",
   "metadata": {},
   "outputs": [],
   "source": [
    "#function to click search bar\n",
    "def click_searchBar():\n",
    "    try:\n",
    "        #locating search bar and clicking it\n",
    "        search_bar = driver.find_element(\"xpath\", \"/html/body/div[2]/div/div/div[2]/div/div/div[1]/div[1]/div[2]/div/div/div/div/div[2]/div[2]/span/div/a/div/div[1]/div/div\")\n",
    "        search_bar.click()\n",
    "    except TimeoutException :\n",
    "        print('No Search Found!')"
   ]
  },
  {
   "cell_type": "code",
   "execution_count": 127,
   "id": "44a4f0b5",
   "metadata": {},
   "outputs": [],
   "source": [
    "#function to type the word to be searched in search bar\n",
    "def type_in_search_bar(s):\n",
    "    try:\n",
    "        search_bar = driver.find_element(\"xpath\", \"/html/body/div[2]/div/div/div[2]/div/div/div[1]/div[1]/div[2]/div/div/div[2]/div/div/div[2]/div/div/div[1]/div/div/input\")\n",
    "        search_bar.clear()\n",
    "        search_bar.send_keys(s)\n",
    "    except TimeoutException :\n",
    "        print('No Search Found!')"
   ]
  },
  {
   "cell_type": "code",
   "execution_count": 128,
   "id": "bd3133f5",
   "metadata": {},
   "outputs": [],
   "source": [
    "click_searchBar()"
   ]
  },
  {
   "cell_type": "code",
   "execution_count": 129,
   "id": "375040f3",
   "metadata": {},
   "outputs": [],
   "source": [
    "type_in_search_bar(\"food\")"
   ]
  },
  {
   "cell_type": "code",
   "execution_count": 161,
   "id": "26eb71b7",
   "metadata": {},
   "outputs": [],
   "source": [
    "#extracting all searched handle\n",
    "def extract_handles():\n",
    "    driver.get('https://www.instagram.com/')\n",
    "    handle_names = driver.find_elements(\"class name\", 'x1lliihq')\n",
    "    names = []\n",
    "    #extracting username\n",
    "    #for i in handle_names :\n",
    "     #   if i.text[0] != '#' :\n",
    "      #      names.append(i.text.split('\\n')[0])\n",
    "    return handle_names"
   ]
  },
  {
   "cell_type": "code",
   "execution_count": 270,
   "id": "3072a4b0",
   "metadata": {},
   "outputs": [
    {
     "name": "stdout",
     "output_type": "stream",
     "text": [
      "\n",
      "harshitnautiyal_500\n",
      "\n",
      "alka_rauthan\n",
      "\n",
      "millidabral\n",
      "\n",
      "im_ansh_rana\n",
      "\n",
      "raysaptarishi\n",
      "\n",
      "utka_sh\n",
      "\n",
      "deepanshu.pathak\n",
      "\n",
      "oh_banker\n",
      "\n",
      "iamshershaah___\n",
      "\n",
      "plata_o_plomo97\n",
      "\n",
      "ajaysachan_\n",
      "\n",
      "_dabbing__panda\n",
      "\n",
      "iakshantaswal\n",
      "1/22\n",
      "\n",
      "sodelhi\n",
      "sodelhi\n",
      "•\n",
      "1 d\n",
      "Delhi, India\n",
      "\n",
      "605 likes\n",
      "sodelhi\n",
      "We’ll go first 23°C 😌❄️\n",
      "... \n",
      "more\n",
      "View all 41 comments\n",
      "\n",
      "\n",
      "\n",
      "\n",
      "\n",
      "605 likes\n",
      "more\n",
      "View all 41 comments\n",
      "\n",
      "\n",
      "speechifyapp\n",
      "speechifyapp\n",
      "\n",
      "Sponsored\n",
      "\n",
      "\n",
      "\n",
      "\n",
      "\n",
      "1,239,663 views\n",
      "View all 377 comments\n",
      "\n",
      "\n",
      "\n",
      "\n",
      "\n",
      "1,239,663 views\n",
      "View all 377 comments\n",
      "\n",
      "aseemsrivastava9\n",
      "Aseem Srivastava\n",
      "Switch\n",
      "\n",
      "Aseem Srivastava\n",
      "Aseem Srivastava\n",
      "Suggested for you\n",
      "See All\n",
      "kridhav_garg_12\n",
      "Suggested for you\n",
      "Follow\n",
      "\n",
      "Suggested for you\n",
      "Suggested for you\n",
      "_miss_dhiman\n",
      "Suggested for you\n",
      "Follow\n",
      "\n",
      "Suggested for you\n",
      "Suggested for you\n",
      "amansaxena21_\n",
      "Suggested for you\n",
      "Follow\n",
      "\n",
      "Suggested for you\n",
      "Suggested for you\n",
      "_anjali_gupta\n",
      "Suggested for you\n",
      "Follow\n",
      "\n",
      "Suggested for you\n",
      "Suggested for you\n",
      "_ritikk_1_sharma\n",
      "Suggested for you\n",
      "Follow\n",
      "\n",
      "Suggested for you\n",
      "Suggested for you\n",
      "About\n",
      "Help\n",
      "Press\n",
      "API\n",
      "Jobs\n",
      "Privacy\n",
      "Terms\n",
      "Locations\n",
      "Language\n",
      "Meta Verified\n",
      "© 2024 INSTAGRAM FROM META\n",
      "Meta\n",
      "About\n",
      "Blog\n",
      "Jobs\n",
      "Help\n",
      "API\n",
      "Privacy\n",
      "Terms\n",
      "Locations\n",
      "Instagram Lite\n",
      "Threads\n",
      "Contact uploading and non-users\n",
      "Meta Verified\n",
      "English (UK)\n",
      "\n",
      "© 2024 Instagram from Meta\n",
      "\n",
      "\n",
      "Home\n",
      "Home\n",
      "\n",
      "Search\n",
      "Search\n",
      "\n",
      "Explore\n",
      "Explore\n",
      "\n",
      "Reels\n",
      "Reels\n"
     ]
    },
    {
     "ename": "StaleElementReferenceException",
     "evalue": "Message: stale element reference: stale element not found in the current frame\n  (Session info: chrome=126.0.6478.183); For documentation on this error, please visit: https://www.selenium.dev/documentation/webdriver/troubleshooting/errors#stale-element-reference-exception\nStacktrace:\n0   chromedriver                        0x0000000104d16a0c chromedriver + 4385292\n1   chromedriver                        0x0000000104d0f318 chromedriver + 4354840\n2   chromedriver                        0x000000010492cb0c chromedriver + 281356\n3   chromedriver                        0x0000000104930fd8 chromedriver + 298968\n4   chromedriver                        0x0000000104932e58 chromedriver + 306776\n5   chromedriver                        0x0000000104932ed0 chromedriver + 306896\n6   chromedriver                        0x000000010496a2a0 chromedriver + 533152\n7   chromedriver                        0x0000000104965734 chromedriver + 513844\n8   chromedriver                        0x00000001049a7d24 chromedriver + 785700\n9   chromedriver                        0x0000000104963eec chromedriver + 507628\n10  chromedriver                        0x00000001049648c4 chromedriver + 510148\n11  chromedriver                        0x0000000104cde3c8 chromedriver + 4154312\n12  chromedriver                        0x0000000104ce2e2c chromedriver + 4173356\n13  chromedriver                        0x0000000104cc3f84 chromedriver + 4046724\n14  chromedriver                        0x0000000104ce3718 chromedriver + 4175640\n15  chromedriver                        0x0000000104cb6f44 chromedriver + 3993412\n16  chromedriver                        0x0000000104d011a8 chromedriver + 4297128\n17  chromedriver                        0x0000000104d01324 chromedriver + 4297508\n18  chromedriver                        0x0000000104d0ef10 chromedriver + 4353808\n19  libsystem_pthread.dylib             0x000000018c8d2f94 _pthread_start + 136\n20  libsystem_pthread.dylib             0x000000018c8cdd34 thread_start + 8\n",
     "output_type": "error",
     "traceback": [
      "\u001b[0;31m---------------------------------------------------------------------------\u001b[0m",
      "\u001b[0;31mStaleElementReferenceException\u001b[0m            Traceback (most recent call last)",
      "Cell \u001b[0;32mIn[270], line 4\u001b[0m\n\u001b[1;32m      2\u001b[0m name_list \u001b[38;5;241m=\u001b[39m extract_handles()\n\u001b[1;32m      3\u001b[0m \u001b[38;5;28;01mfor\u001b[39;00m i \u001b[38;5;129;01min\u001b[39;00m name_list:\n\u001b[0;32m----> 4\u001b[0m     \u001b[38;5;28mprint\u001b[39m(i\u001b[38;5;241m.\u001b[39mtext)\n",
      "File \u001b[0;32m/opt/anaconda3/lib/python3.11/site-packages/selenium/webdriver/remote/webelement.py:90\u001b[0m, in \u001b[0;36mWebElement.text\u001b[0;34m(self)\u001b[0m\n\u001b[1;32m     87\u001b[0m \u001b[38;5;129m@property\u001b[39m\n\u001b[1;32m     88\u001b[0m \u001b[38;5;28;01mdef\u001b[39;00m \u001b[38;5;21mtext\u001b[39m(\u001b[38;5;28mself\u001b[39m) \u001b[38;5;241m-\u001b[39m\u001b[38;5;241m>\u001b[39m \u001b[38;5;28mstr\u001b[39m:\n\u001b[1;32m     89\u001b[0m \u001b[38;5;250m    \u001b[39m\u001b[38;5;124;03m\"\"\"The text of the element.\"\"\"\u001b[39;00m\n\u001b[0;32m---> 90\u001b[0m     \u001b[38;5;28;01mreturn\u001b[39;00m \u001b[38;5;28mself\u001b[39m\u001b[38;5;241m.\u001b[39m_execute(Command\u001b[38;5;241m.\u001b[39mGET_ELEMENT_TEXT)[\u001b[38;5;124m\"\u001b[39m\u001b[38;5;124mvalue\u001b[39m\u001b[38;5;124m\"\u001b[39m]\n",
      "File \u001b[0;32m/opt/anaconda3/lib/python3.11/site-packages/selenium/webdriver/remote/webelement.py:395\u001b[0m, in \u001b[0;36mWebElement._execute\u001b[0;34m(self, command, params)\u001b[0m\n\u001b[1;32m    393\u001b[0m     params \u001b[38;5;241m=\u001b[39m {}\n\u001b[1;32m    394\u001b[0m params[\u001b[38;5;124m\"\u001b[39m\u001b[38;5;124mid\u001b[39m\u001b[38;5;124m\"\u001b[39m] \u001b[38;5;241m=\u001b[39m \u001b[38;5;28mself\u001b[39m\u001b[38;5;241m.\u001b[39m_id\n\u001b[0;32m--> 395\u001b[0m \u001b[38;5;28;01mreturn\u001b[39;00m \u001b[38;5;28mself\u001b[39m\u001b[38;5;241m.\u001b[39m_parent\u001b[38;5;241m.\u001b[39mexecute(command, params)\n",
      "File \u001b[0;32m/opt/anaconda3/lib/python3.11/site-packages/selenium/webdriver/remote/webdriver.py:354\u001b[0m, in \u001b[0;36mWebDriver.execute\u001b[0;34m(self, driver_command, params)\u001b[0m\n\u001b[1;32m    352\u001b[0m response \u001b[38;5;241m=\u001b[39m \u001b[38;5;28mself\u001b[39m\u001b[38;5;241m.\u001b[39mcommand_executor\u001b[38;5;241m.\u001b[39mexecute(driver_command, params)\n\u001b[1;32m    353\u001b[0m \u001b[38;5;28;01mif\u001b[39;00m response:\n\u001b[0;32m--> 354\u001b[0m     \u001b[38;5;28mself\u001b[39m\u001b[38;5;241m.\u001b[39merror_handler\u001b[38;5;241m.\u001b[39mcheck_response(response)\n\u001b[1;32m    355\u001b[0m     response[\u001b[38;5;124m\"\u001b[39m\u001b[38;5;124mvalue\u001b[39m\u001b[38;5;124m\"\u001b[39m] \u001b[38;5;241m=\u001b[39m \u001b[38;5;28mself\u001b[39m\u001b[38;5;241m.\u001b[39m_unwrap_value(response\u001b[38;5;241m.\u001b[39mget(\u001b[38;5;124m\"\u001b[39m\u001b[38;5;124mvalue\u001b[39m\u001b[38;5;124m\"\u001b[39m, \u001b[38;5;28;01mNone\u001b[39;00m))\n\u001b[1;32m    356\u001b[0m     \u001b[38;5;28;01mreturn\u001b[39;00m response\n",
      "File \u001b[0;32m/opt/anaconda3/lib/python3.11/site-packages/selenium/webdriver/remote/errorhandler.py:229\u001b[0m, in \u001b[0;36mErrorHandler.check_response\u001b[0;34m(self, response)\u001b[0m\n\u001b[1;32m    227\u001b[0m         alert_text \u001b[38;5;241m=\u001b[39m value[\u001b[38;5;124m\"\u001b[39m\u001b[38;5;124malert\u001b[39m\u001b[38;5;124m\"\u001b[39m]\u001b[38;5;241m.\u001b[39mget(\u001b[38;5;124m\"\u001b[39m\u001b[38;5;124mtext\u001b[39m\u001b[38;5;124m\"\u001b[39m)\n\u001b[1;32m    228\u001b[0m     \u001b[38;5;28;01mraise\u001b[39;00m exception_class(message, screen, stacktrace, alert_text)  \u001b[38;5;66;03m# type: ignore[call-arg]  # mypy is not smart enough here\u001b[39;00m\n\u001b[0;32m--> 229\u001b[0m \u001b[38;5;28;01mraise\u001b[39;00m exception_class(message, screen, stacktrace)\n",
      "\u001b[0;31mStaleElementReferenceException\u001b[0m: Message: stale element reference: stale element not found in the current frame\n  (Session info: chrome=126.0.6478.183); For documentation on this error, please visit: https://www.selenium.dev/documentation/webdriver/troubleshooting/errors#stale-element-reference-exception\nStacktrace:\n0   chromedriver                        0x0000000104d16a0c chromedriver + 4385292\n1   chromedriver                        0x0000000104d0f318 chromedriver + 4354840\n2   chromedriver                        0x000000010492cb0c chromedriver + 281356\n3   chromedriver                        0x0000000104930fd8 chromedriver + 298968\n4   chromedriver                        0x0000000104932e58 chromedriver + 306776\n5   chromedriver                        0x0000000104932ed0 chromedriver + 306896\n6   chromedriver                        0x000000010496a2a0 chromedriver + 533152\n7   chromedriver                        0x0000000104965734 chromedriver + 513844\n8   chromedriver                        0x00000001049a7d24 chromedriver + 785700\n9   chromedriver                        0x0000000104963eec chromedriver + 507628\n10  chromedriver                        0x00000001049648c4 chromedriver + 510148\n11  chromedriver                        0x0000000104cde3c8 chromedriver + 4154312\n12  chromedriver                        0x0000000104ce2e2c chromedriver + 4173356\n13  chromedriver                        0x0000000104cc3f84 chromedriver + 4046724\n14  chromedriver                        0x0000000104ce3718 chromedriver + 4175640\n15  chromedriver                        0x0000000104cb6f44 chromedriver + 3993412\n16  chromedriver                        0x0000000104d011a8 chromedriver + 4297128\n17  chromedriver                        0x0000000104d01324 chromedriver + 4297508\n18  chromedriver                        0x0000000104d0ef10 chromedriver + 4353808\n19  libsystem_pthread.dylib             0x000000018c8d2f94 _pthread_start + 136\n20  libsystem_pthread.dylib             0x000000018c8cdd34 thread_start + 8\n"
     ]
    }
   ],
   "source": [
    "#extracting all the names of the Instagram Handles that are displayed in list after typing “food” in search bar\n",
    "name_list = extract_handles()\n",
    "for i in name_list:\n",
    "    print(i.text)"
   ]
  },
  {
   "cell_type": "markdown",
   "id": "10f1d973",
   "metadata": {},
   "source": [
    "# From the list of instagram handles you obtained when you searched ‘food’ in previous project. Open the first 10 handles and find the top 5 which have the highest number of followers"
   ]
  },
  {
   "cell_type": "code",
   "execution_count": 271,
   "id": "76d48017",
   "metadata": {},
   "outputs": [
    {
     "name": "stdout",
     "output_type": "stream",
     "text": [
      "['harshitnautiyal_500', 'alka_rauthan', 'millidabral', 'im_ansh_rana', 'raysaptarishi', 'utka_sh', 'deepanshu.pathak', 'oh_banker', 'iamshershaah___', 'plata_o_plomo97']\n"
     ]
    }
   ],
   "source": [
    "# seperating first 10 handles name in a single list from other names\n",
    "first_10_handles = []\n",
    "count = 0\n",
    "for i in range(20):\n",
    "    if i % 2 != 0:\n",
    "        first_10_handles.append(name_list[i].text)\n",
    "print(first_10_handles)"
   ]
  },
  {
   "cell_type": "code",
   "execution_count": 272,
   "id": "b8d51562",
   "metadata": {},
   "outputs": [],
   "source": [
    "url = \"https://www.instagram.com/\"\n",
    "temp_url_list = []\n",
    "# appending first 10 handles in instagram url so that we can\n",
    "# directly access there instagram page using driver.get() function\n",
    "for i in range(10):\n",
    "    temp_url_list.append(url + first_10_handles[i])"
   ]
  },
  {
   "cell_type": "code",
   "execution_count": 293,
   "id": "a62771a9",
   "metadata": {},
   "outputs": [],
   "source": [
    "# finding number of followers\n",
    "def find_number_of_followers(url):\n",
    "    driver.get(url)\n",
    "    #WebDriverWait(driver, 20).until(\n",
    "     #   EC.visibility_of(driver.find_element(\"xpath\", \"/html/body/div[2]/div/div/div[2]/div/div/div[1]/div[2]/div/div[1]/section/main/div/header/section/div[1]/div[2]/div/div[1]/button\")\n",
    "      #                  )\n",
    "    #)\n",
    "    count = driver.find_elements('xpath', '/html/body/div[2]/div/div/div[2]/div/div/div[1]/div[2]/div/div[1]/section/main/div/header/section/div[3]')\n",
    "    #follower_count.append(a)\n",
    "    return count"
   ]
  },
  {
   "cell_type": "code",
   "execution_count": 307,
   "id": "47d82a6b",
   "metadata": {},
   "outputs": [],
   "source": [
    "follower_count_list = []"
   ]
  },
  {
   "cell_type": "code",
   "execution_count": 308,
   "id": "c88290c9",
   "metadata": {},
   "outputs": [],
   "source": [
    "# getting 1st follower details\n",
    "x = find_number_of_followers(temp_url_list[0])\n",
    "follower_count_list.append(x[0].text)"
   ]
  },
  {
   "cell_type": "code",
   "execution_count": 309,
   "id": "14d80948",
   "metadata": {},
   "outputs": [],
   "source": [
    "# getting 2nd follower details\n",
    "x = find_number_of_followers(temp_url_list[1])\n",
    "follower_count_list.append(x[0].text)"
   ]
  },
  {
   "cell_type": "code",
   "execution_count": 310,
   "id": "4c1f1014",
   "metadata": {},
   "outputs": [],
   "source": [
    "# getting 3rd follower details\n",
    "x = find_number_of_followers(temp_url_list[2])\n",
    "follower_count_list.append(x[0].text)"
   ]
  },
  {
   "cell_type": "code",
   "execution_count": 311,
   "id": "bb171686",
   "metadata": {},
   "outputs": [],
   "source": [
    "# getting 4th follower details\n",
    "x = find_number_of_followers(temp_url_list[3])\n",
    "follower_count_list.append(x[0].text)"
   ]
  },
  {
   "cell_type": "code",
   "execution_count": 315,
   "id": "63404039",
   "metadata": {},
   "outputs": [
    {
     "name": "stdout",
     "output_type": "stream",
     "text": [
      "[]\n"
     ]
    }
   ],
   "source": [
    "# getting 5th follower details\n",
    "x = find_number_of_followers(temp_url_list[4])\n",
    "print(x)\n",
    "#follower_count_list.append(x[0].text)"
   ]
  },
  {
   "cell_type": "code",
   "execution_count": 316,
   "id": "d27d6a7c",
   "metadata": {},
   "outputs": [
    {
     "ename": "IndexError",
     "evalue": "list index out of range",
     "output_type": "error",
     "traceback": [
      "\u001b[0;31m---------------------------------------------------------------------------\u001b[0m",
      "\u001b[0;31mIndexError\u001b[0m                                Traceback (most recent call last)",
      "Cell \u001b[0;32mIn[316], line 3\u001b[0m\n\u001b[1;32m      1\u001b[0m \u001b[38;5;66;03m# getting 6th follower details\u001b[39;00m\n\u001b[1;32m      2\u001b[0m x \u001b[38;5;241m=\u001b[39m find_number_of_followers(temp_url_list[\u001b[38;5;241m4\u001b[39m])\n\u001b[0;32m----> 3\u001b[0m follower_count_list\u001b[38;5;241m.\u001b[39mappend(x[\u001b[38;5;241m0\u001b[39m]\u001b[38;5;241m.\u001b[39mtext)\n",
      "\u001b[0;31mIndexError\u001b[0m: list index out of range"
     ]
    }
   ],
   "source": [
    "# getting 6th follower details\n",
    "x = find_number_of_followers(temp_url_list[4])\n",
    "follower_count_list.append(x[0].text)"
   ]
  },
  {
   "cell_type": "code",
   "execution_count": null,
   "id": "22e1155b",
   "metadata": {},
   "outputs": [],
   "source": [
    "# getting 7th follower details\n",
    "x = find_number_of_followers(temp_url_list[4])\n",
    "follower_count_list.append(x[0].text)"
   ]
  },
  {
   "cell_type": "code",
   "execution_count": null,
   "id": "e06b2d89",
   "metadata": {},
   "outputs": [],
   "source": [
    "# getting 8th follower details\n",
    "x = find_number_of_followers(temp_url_list[4])\n",
    "follower_count_list.append(x[0].text)"
   ]
  },
  {
   "cell_type": "code",
   "execution_count": null,
   "id": "8a300a03",
   "metadata": {},
   "outputs": [],
   "source": [
    "# getting 9th follower details\n",
    "x = find_number_of_followers(temp_url_list[4])\n",
    "follower_count_list.append(x[0].text)"
   ]
  },
  {
   "cell_type": "code",
   "execution_count": null,
   "id": "f77e2a09",
   "metadata": {},
   "outputs": [],
   "source": [
    "# getting 10th follower details\n",
    "x = find_number_of_followers(temp_url_list[4])\n",
    "follower_count_list.append(x[0].text)"
   ]
  },
  {
   "cell_type": "code",
   "execution_count": 304,
   "id": "6703881a",
   "metadata": {},
   "outputs": [
    {
     "name": "stdout",
     "output_type": "stream",
     "text": [
      "7 posts\n",
      "217 followers\n",
      "271 following\n"
     ]
    }
   ],
   "source": [
    "print(x[0].text)\n"
   ]
  },
  {
   "cell_type": "code",
   "execution_count": 314,
   "id": "63fd9a37",
   "metadata": {},
   "outputs": [
    {
     "name": "stdout",
     "output_type": "stream",
     "text": [
      "['7 posts\\n217 followers\\n271 following', '307 posts\\n612 followers\\n660 following', '33 posts\\n186 followers\\n236 following', '83 posts\\n272 followers\\n419 following']\n"
     ]
    }
   ],
   "source": [
    "print(follower_count_list)"
   ]
  },
  {
   "cell_type": "code",
   "execution_count": null,
   "id": "bc1f694b",
   "metadata": {},
   "outputs": [],
   "source": []
  },
  {
   "cell_type": "code",
   "execution_count": 264,
   "id": "11cee2dc",
   "metadata": {},
   "outputs": [
    {
     "name": "stdout",
     "output_type": "stream",
     "text": [
      "harshitnautiyal_500\n"
     ]
    }
   ],
   "source": [
    "print(first_10_handles[0])\n",
    "driver.get(first_10_handles[0])"
   ]
  },
  {
   "cell_type": "code",
   "execution_count": 136,
   "id": "f04df1c1",
   "metadata": {},
   "outputs": [],
   "source": [
    "#count = driver.find_elements('class name', '_ac2a')"
   ]
  },
  {
   "cell_type": "code",
   "execution_count": 137,
   "id": "8a206575",
   "metadata": {},
   "outputs": [
    {
     "name": "stdout",
     "output_type": "stream",
     "text": [
      "217\n"
     ]
    }
   ],
   "source": [
    "#print(count[1].text)"
   ]
  },
  {
   "cell_type": "code",
   "execution_count": 265,
   "id": "92e3d743",
   "metadata": {},
   "outputs": [
    {
     "name": "stdout",
     "output_type": "stream",
     "text": [
      "['https://www.instagram.com/harshitnautiyal_500', 'https://www.instagram.com/srivastava4350', 'https://www.instagram.com/millidabral', 'https://www.instagram.com/raysaptarishi', 'https://www.instagram.com/im_ansh_rana', 'https://www.instagram.com/ajaysachan_', 'https://www.instagram.com/deepanshu.pathak', 'https://www.instagram.com/iamshershaah___', 'https://www.instagram.com/utka_sh', 'https://www.instagram.com/iakshantaswal']\n"
     ]
    }
   ],
   "source": [
    "print(temp_url_list)"
   ]
  },
  {
   "cell_type": "code",
   "execution_count": null,
   "id": "b0edfefa",
   "metadata": {},
   "outputs": [],
   "source": []
  },
  {
   "cell_type": "code",
   "execution_count": null,
   "id": "ef6fe87f",
   "metadata": {},
   "outputs": [],
   "source": []
  },
  {
   "cell_type": "code",
   "execution_count": null,
   "id": "b9756f11",
   "metadata": {},
   "outputs": [],
   "source": []
  },
  {
   "cell_type": "code",
   "execution_count": null,
   "id": "908715fd",
   "metadata": {},
   "outputs": [],
   "source": []
  },
  {
   "cell_type": "code",
   "execution_count": null,
   "id": "26e80dbe",
   "metadata": {},
   "outputs": [],
   "source": []
  },
  {
   "cell_type": "code",
   "execution_count": null,
   "id": "4e21cf3f",
   "metadata": {},
   "outputs": [],
   "source": []
  },
  {
   "cell_type": "code",
   "execution_count": null,
   "id": "32dacd6b",
   "metadata": {},
   "outputs": [],
   "source": []
  },
  {
   "cell_type": "code",
   "execution_count": null,
   "id": "be1be14e",
   "metadata": {},
   "outputs": [],
   "source": []
  },
  {
   "cell_type": "code",
   "execution_count": null,
   "id": "337a814a",
   "metadata": {},
   "outputs": [],
   "source": []
  },
  {
   "cell_type": "code",
   "execution_count": null,
   "id": "23cf079c",
   "metadata": {},
   "outputs": [],
   "source": []
  },
  {
   "cell_type": "code",
   "execution_count": null,
   "id": "c7b3d025",
   "metadata": {},
   "outputs": [],
   "source": []
  },
  {
   "cell_type": "code",
   "execution_count": null,
   "id": "594fe2c5",
   "metadata": {},
   "outputs": [],
   "source": []
  },
  {
   "cell_type": "code",
   "execution_count": null,
   "id": "8f9e2e50",
   "metadata": {},
   "outputs": [],
   "source": []
  },
  {
   "cell_type": "code",
   "execution_count": null,
   "id": "f981b898",
   "metadata": {},
   "outputs": [],
   "source": []
  },
  {
   "cell_type": "code",
   "execution_count": null,
   "id": "8a0ffea1",
   "metadata": {},
   "outputs": [],
   "source": []
  },
  {
   "cell_type": "code",
   "execution_count": null,
   "id": "c68285ea",
   "metadata": {},
   "outputs": [],
   "source": []
  },
  {
   "cell_type": "code",
   "execution_count": null,
   "id": "48f7d7d9",
   "metadata": {},
   "outputs": [],
   "source": []
  },
  {
   "cell_type": "code",
   "execution_count": null,
   "id": "48b9e5b7",
   "metadata": {},
   "outputs": [],
   "source": []
  },
  {
   "cell_type": "code",
   "execution_count": null,
   "id": "ae6e0807",
   "metadata": {},
   "outputs": [],
   "source": []
  },
  {
   "cell_type": "code",
   "execution_count": null,
   "id": "40ee02ac",
   "metadata": {},
   "outputs": [],
   "source": []
  },
  {
   "cell_type": "code",
   "execution_count": null,
   "id": "8ec309b1",
   "metadata": {},
   "outputs": [],
   "source": []
  },
  {
   "cell_type": "code",
   "execution_count": null,
   "id": "275d351e",
   "metadata": {},
   "outputs": [],
   "source": []
  },
  {
   "cell_type": "code",
   "execution_count": null,
   "id": "7134d2b8",
   "metadata": {},
   "outputs": [],
   "source": []
  },
  {
   "cell_type": "code",
   "execution_count": null,
   "id": "7624c1a4",
   "metadata": {},
   "outputs": [],
   "source": []
  }
 ],
 "metadata": {
  "kernelspec": {
   "display_name": "Python 3 (ipykernel)",
   "language": "python",
   "name": "python3"
  },
  "language_info": {
   "codemirror_mode": {
    "name": "ipython",
    "version": 3
   },
   "file_extension": ".py",
   "mimetype": "text/x-python",
   "name": "python",
   "nbconvert_exporter": "python",
   "pygments_lexer": "ipython3",
   "version": "3.11.7"
  }
 },
 "nbformat": 4,
 "nbformat_minor": 5
}
